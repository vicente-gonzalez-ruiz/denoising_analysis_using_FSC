{
 "cells": [
  {
   "cell_type": "markdown",
   "id": "507d347d-7fff-4d27-b373-1a7dcfe298d2",
   "metadata": {},
   "source": [
    "# FSC curve of empiar10311_stack_crop.mrc VS several sigma values in Gaussian Denoising"
   ]
  },
  {
   "cell_type": "code",
   "execution_count": null,
   "id": "789d17f1-645c-441c-8d2e-b87cf8b4cf8b",
   "metadata": {},
   "outputs": [],
   "source": [
    "import mrcfile # pip install mrcfile\n",
    "import matplotlib.pyplot as plt # pip install matplotlib\n",
    "from self_fourier_shell_correlation import fsc_utils as fsc # pip install --upgrade --force-reinstall \"self_fourier_shell_correlation @ git+https://github.com/vicente-gonzalez-ruiz/self_fourier_shell_correlation\"\n",
    "from denoising.volume.gaussian import Monochrome_Denoising as GD # pip install --upgrade --force-reinstall \"denoising @ git+https://github.com/vicente-gonzalez-ruiz/denoising\"\n",
    "from denoising.utils import get_gaussian_kernel # pip install --upgrade --force-reinstall \"denoising @ git+https://github.com/vicente-gonzalez-ruiz/denoising\"\n",
    "import denoising.utils as utils # pip install --upgrade --force-reinstall \"denoising @ git+https://github.com/vicente-gonzalez-ruiz/denoising\"\n",
    "import numpy as np\n",
    "import logging"
   ]
  },
  {
   "cell_type": "code",
   "execution_count": null,
   "id": "4215b473-ae37-49ff-9844-fe412ed1e06a",
   "metadata": {},
   "outputs": [],
   "source": [
    "vol_name = \"empiar10311_stack_crop\"\n",
    "vol_extension = \".mrc\"\n",
    "vols_path = \"/shared/vols/\""
   ]
  },
  {
   "cell_type": "code",
   "execution_count": null,
   "id": "514533a0-a958-49c9-9576-91dad6a28ee1",
   "metadata": {},
   "outputs": [],
   "source": [
    "from collections import namedtuple # Comes with the PSL\n",
    "Args = namedtuple(\"args\", [\"vol\"])\n",
    "args = Args(vols_path + vol_name + vol_extension)"
   ]
  },
  {
   "cell_type": "code",
   "execution_count": null,
   "id": "ac56a8f9-2d80-4317-b4b7-f4dda6d33078",
   "metadata": {},
   "outputs": [],
   "source": [
    "with mrcfile.open(args.vol, permissive=True) as mrc:\n",
    "    vol= mrc.data"
   ]
  },
  {
   "cell_type": "code",
   "execution_count": null,
   "id": "0fbafdfd-5545-4a82-bd69-dff205fdd90c",
   "metadata": {},
   "outputs": [],
   "source": [
    "vol.shape"
   ]
  },
  {
   "cell_type": "code",
   "execution_count": null,
   "id": "c4e9afe4-c0b2-4e39-a8d4-69c7e6befdf3",
   "metadata": {},
   "outputs": [],
   "source": [
    "vol = vol[0:100, 0:100, 0:100]"
   ]
  },
  {
   "cell_type": "code",
   "execution_count": null,
   "id": "3c33b0cf-f740-4270-8707-7d0fb9d9e928",
   "metadata": {},
   "outputs": [],
   "source": [
    "#Z_dim = vol.shape[0]\n",
    "#Z2 = Z_dim//2\n",
    "#plt.imshow(vol[Z2], cmap=\"gray\")"
   ]
  },
  {
   "cell_type": "code",
   "execution_count": null,
   "id": "f5536e61-2cdd-4c91-b9b7-60ada7c6377d",
   "metadata": {},
   "outputs": [],
   "source": [
    "def get_kernel_coeffs(sigma):\n",
    "    sigmas = np.array([sigma, sigma, sigma])\n",
    "    kernel = [None]*3\n",
    "    kernel[0] = get_gaussian_kernel(sigmas[0])\n",
    "    kernel[1] = get_gaussian_kernel(sigmas[1])\n",
    "    kernel[2] = get_gaussian_kernel(sigmas[2])\n",
    "    return kernel"
   ]
  },
  {
   "cell_type": "code",
   "execution_count": null,
   "id": "241f9b2f-9c01-4f5b-a949-8f719abd089e",
   "metadata": {},
   "outputs": [],
   "source": [
    "logging.basicConfig(format=\"[%(filename)s:%(lineno)s %(funcName)s()] %(message)s\")\n",
    "logger = logging.getLogger(__name__)\n",
    "logger.setLevel(logging.INFO)\n",
    "denoiser = GD(logger)"
   ]
  },
  {
   "cell_type": "code",
   "execution_count": null,
   "id": "dd55f7c3-a225-415f-89a3-d8c7dd6ba033",
   "metadata": {},
   "outputs": [],
   "source": [
    "curve = []\n",
    "sigmas = [0.1, 0.5, 0.6, 0.75, 1.0, 1.5, 2.0, 3.0]\n",
    "for i in sigmas:\n",
    "    total_c_avg = 0\n",
    "    kernel = get_kernel_coeffs(i)\n",
    "    denoised_vol = denoiser.filter(vol, kernel)\n",
    "    freq, c_avg = fsc.get_FSC_curve(vol, denoised_vol)\n",
    "    #print(freq.shape, c_avg.shape)\n",
    "    curve.append(c_avg)\n",
    "    print(i, end=' ')"
   ]
  },
  {
   "cell_type": "code",
   "execution_count": null,
   "id": "8b0cc78e-eae6-412e-959c-6da0a6a3c80b",
   "metadata": {},
   "outputs": [],
   "source": [
    "plt.title(\"GD(\" + vol_name + \", $\\sigma$)\")\n",
    "plt.xlabel(\"Spatial Frequency\")\n",
    "plt.ylabel(\"Fourier Shell Correlation\")\n",
    "for i in range(len(sigmas)):\n",
    "    plt.plot(freq, curve[i], label=f\"$\\sigma$={sigmas[i]}\")\n",
    "plt.legend()\n",
    "plt.savefig(vol_name + \"_GD__VS__FSC\" + \".svg\")\n",
    "plt.show()"
   ]
  },
  {
   "cell_type": "code",
   "execution_count": null,
   "id": "7f4cb9a6-7153-4aa2-8a7e-258f102bd951",
   "metadata": {},
   "outputs": [],
   "source": [
    "curve = []\n",
    "sigmas = [0.1, 0.5, 0.6, 0.75, 1.0, 1.5, 2.0]\n",
    "for i in sigmas:\n",
    "    total_c_avg = 0\n",
    "    kernel = get_kernel_coeffs(i)\n",
    "    denoised_vol = denoiser.filter(vol, kernel)\n",
    "    freq, c_avg = fsc.get_SFSC_curve(denoised_vol)\n",
    "    curve.append(c_avg)\n",
    "    print(i, end=' ')"
   ]
  },
  {
   "cell_type": "code",
   "execution_count": null,
   "id": "8a096eeb-293c-49aa-9969-07b8eede56ce",
   "metadata": {},
   "outputs": [],
   "source": [
    "plt.title(\"GD(\" + vol_name + \", $\\sigma$)\")\n",
    "plt.xlabel(\"Spatial Frequency\")\n",
    "plt.ylabel(\"Self Fourier Shell Correlation\")\n",
    "for i in range(len(sigmas)):\n",
    "    plt.plot(freq, curve[i], label=f\"$\\sigma$={sigmas[i]}\")\n",
    "plt.legend()\n",
    "plt.savefig(vol_name + \"_GD__VS__SFSC\" + \".svg\")\n",
    "plt.show()"
   ]
  },
  {
   "cell_type": "markdown",
   "id": "2d5f341e-90f8-4c69-9b04-a4f715eb981e",
   "metadata": {},
   "source": [
    "## Why the SFSC curves go up with the frequency?"
   ]
  },
  {
   "cell_type": "code",
   "execution_count": null,
   "id": "7af7b1f5-49d1-40ed-8475-be7eb74051bf",
   "metadata": {},
   "outputs": [],
   "source": [
    "np.max(vol)"
   ]
  },
  {
   "cell_type": "code",
   "execution_count": null,
   "id": "46962c3d-dd98-4b84-b591-f201abee4ddc",
   "metadata": {},
   "outputs": [],
   "source": [
    "curve = []\n",
    "sigmas = [0.1, 0.5, 0.6, 0.75, 1.0, 1.5, 2.0, 3.0]\n",
    "for i in sigmas:\n",
    "    total_c_avg = 0\n",
    "    noise_1 = utils.gaussian_noise(vol.shape, sigma=100)\n",
    "    noise_2 = utils.gaussian_noise(vol.shape, sigma=100)\n",
    "    noisy_vol_1 = vol + noise_1\n",
    "    noisy_vol_2 = vol + noise_2\n",
    "    kernel = get_kernel_coeffs(i)\n",
    "    denoised_vol_1 = denoiser.filter(noisy_vol_1, kernel)\n",
    "    denoised_vol_2 = denoiser.filter(noisy_vol_2, kernel)\n",
    "    freq, c_avg = fsc.get_FSC_curve(denoised_vol_1, denoised_vol_2)\n",
    "    #print(freq.shape, c_avg.shape)\n",
    "    curve.append(c_avg)\n",
    "    print(i, end=' ')"
   ]
  },
  {
   "cell_type": "code",
   "execution_count": null,
   "id": "aa222834-d868-436f-b0e4-e7aac6772470",
   "metadata": {},
   "outputs": [],
   "source": [
    "plt.title(\"GD(\" + vol_name + \", $\\sigma$)\")\n",
    "plt.xlabel(\"Spatial Frequency\")\n",
    "plt.ylabel(\"Fourier Shell Correlation\")\n",
    "for i in range(len(sigmas)):\n",
    "    plt.plot(freq, curve[i], label=f\"$\\sigma$={sigmas[i]}\")\n",
    "plt.legend()\n",
    "plt.savefig(vol_name + \"_GD__VS__SFSC\" + \".svg\")\n",
    "plt.show()"
   ]
  },
  {
   "cell_type": "markdown",
   "id": "76aadfce-b42d-4aa3-a79b-c7d8479fe42a",
   "metadata": {},
   "source": [
    "FSC has the same behaviour"
   ]
  }
 ],
 "metadata": {
  "kernelspec": {
   "display_name": "Python 3 (ipykernel)",
   "language": "python",
   "name": "python3"
  },
  "language_info": {
   "codemirror_mode": {
    "name": "ipython",
    "version": 3
   },
   "file_extension": ".py",
   "mimetype": "text/x-python",
   "name": "python",
   "nbconvert_exporter": "python",
   "pygments_lexer": "ipython3",
   "version": "3.12.2"
  }
 },
 "nbformat": 4,
 "nbformat_minor": 5
}
