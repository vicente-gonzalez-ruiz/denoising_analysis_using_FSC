{
 "cells": [
  {
   "cell_type": "markdown",
   "id": "507d347d-7fff-4d27-b373-1a7dcfe298d2",
   "metadata": {},
   "source": [
    "# FSC curve of empiar10311_stack_crop.mrc VS several sigma values in Stucture Preserving Gaussian Denoising"
   ]
  },
  {
   "cell_type": "code",
   "execution_count": null,
   "id": "789d17f1-645c-441c-8d2e-b87cf8b4cf8b",
   "metadata": {},
   "outputs": [],
   "source": [
    "import mrcfile\n",
    "import matplotlib.pyplot as plt\n",
    "from self_fourier_shell_correlation import fsc_utils as fsc # pip install --upgrade --force-reinstall \"self_fourier_shell_correlation @ git+https://github.com/vicente-gonzalez-ruiz/self_fourier_shell_correlation\"\n",
    "from denoising.volume.gaussian import Monochrome_Denoising as GD # pip install --upgrade --force-reinstall \"denoising @ git+https://github.com/vicente-gonzalez-ruiz/denoising\"\n",
    "from denoising.volume.OF_gaussian import Monochrome_Denoising as SPGD # pip install --upgrade --force-reinstall \"denoising @ git+https://github.com/vicente-gonzalez-ruiz/denoising\"\n",
    "from denoising.utils import get_gaussian_kernel # pip install --upgrade --force-reinstall \"denoising @ git+https://github.com/vicente-gonzalez-ruiz/denoising\"\n",
    "import numpy as np\n",
    "import logging"
   ]
  },
  {
   "cell_type": "code",
   "execution_count": null,
   "id": "4215b473-ae37-49ff-9844-fe412ed1e06a",
   "metadata": {},
   "outputs": [],
   "source": [
    "vol_name = \"empiar10311_stack_crop\"\n",
    "vol_extension = \".mrc\"\n",
    "vols_path = \"/mnt2/TomogramDenoising/vols/\""
   ]
  },
  {
   "cell_type": "code",
   "execution_count": null,
   "id": "514533a0-a958-49c9-9576-91dad6a28ee1",
   "metadata": {},
   "outputs": [],
   "source": [
    "from collections import namedtuple # Comes with the PSL\n",
    "Args = namedtuple(\"args\", [\"vol\"])\n",
    "args = Args(vols_path + vol_name + vol_extension)"
   ]
  },
  {
   "cell_type": "code",
   "execution_count": null,
   "id": "ac56a8f9-2d80-4317-b4b7-f4dda6d33078",
   "metadata": {},
   "outputs": [],
   "source": [
    "with mrcfile.open(args.vol, permissive=True) as mrc:\n",
    "    vol= mrc.data"
   ]
  },
  {
   "cell_type": "code",
   "execution_count": null,
   "id": "0fbafdfd-5545-4a82-bd69-dff205fdd90c",
   "metadata": {},
   "outputs": [],
   "source": [
    "vol.shape"
   ]
  },
  {
   "cell_type": "code",
   "execution_count": null,
   "id": "c4e9afe4-c0b2-4e39-a8d4-69c7e6befdf3",
   "metadata": {},
   "outputs": [],
   "source": [
    "vol = vol[0:100, 0:100, 0:100]"
   ]
  },
  {
   "cell_type": "code",
   "execution_count": null,
   "id": "3c33b0cf-f740-4270-8707-7d0fb9d9e928",
   "metadata": {},
   "outputs": [],
   "source": [
    "Z_dim = vol.shape[0]\n",
    "Z2 = Z_dim//2\n",
    "#plt.imshow(vol[Z2], cmap=\"gray\")"
   ]
  },
  {
   "cell_type": "code",
   "execution_count": null,
   "id": "f5536e61-2cdd-4c91-b9b7-60ada7c6377d",
   "metadata": {},
   "outputs": [],
   "source": [
    "def get_kernel_coeffs(sigma):\n",
    "    sigmas = np.array([sigma, sigma, sigma])\n",
    "    kernel = [None]*3\n",
    "    kernel[0] = get_gaussian_kernel(sigmas[0])\n",
    "    kernel[1] = get_gaussian_kernel(sigmas[1])\n",
    "    kernel[2] = get_gaussian_kernel(sigmas[2])\n",
    "    return kernel"
   ]
  },
  {
   "cell_type": "code",
   "execution_count": null,
   "id": "1e8defae-151b-4129-94ca-a16a88dad775",
   "metadata": {},
   "outputs": [],
   "source": [
    "sigma = 2.0\n",
    "kernel = get_kernel_coeffs(sigma)"
   ]
  },
  {
   "cell_type": "code",
   "execution_count": null,
   "id": "cfda74ab-28b9-4935-94a5-5661610fdb17",
   "metadata": {},
   "outputs": [],
   "source": [
    "logging.basicConfig(format=\"[%(filename)s:%(lineno)s %(funcName)s()] %(message)s\")\n",
    "logger = logging.getLogger(__name__)\n",
    "logger.setLevel(logging.INFO)"
   ]
  },
  {
   "cell_type": "code",
   "execution_count": null,
   "id": "c913ace4-923f-43ef-891c-687dbdfed4f2",
   "metadata": {},
   "outputs": [],
   "source": [
    "denoiser = GD(logger)\n",
    "vol_denoised = denoiser.filter(vol, kernel)"
   ]
  },
  {
   "cell_type": "code",
   "execution_count": null,
   "id": "b5352545-7a5c-403e-a2f5-d219d6012252",
   "metadata": {},
   "outputs": [],
   "source": [
    "#plt.imshow(vol_denoised[Z2], cmap=\"gray\")"
   ]
  },
  {
   "cell_type": "code",
   "execution_count": null,
   "id": "90f6f985-f86f-4f80-acb3-3e7a451fa387",
   "metadata": {},
   "outputs": [],
   "source": [
    "freq, c_GD = fsc.get_FSC_curve(vol, vol_denoised)"
   ]
  },
  {
   "cell_type": "code",
   "execution_count": null,
   "id": "e3d81c6e-1974-49f5-ad82-951329e5aefb",
   "metadata": {},
   "outputs": [],
   "source": [
    "denoiser = SPGD(logger)\n",
    "vol_denoised = denoiser.filter(vol, kernel, l=2, w=5)\n",
    "freq, c_SPGD = fsc.get_FSC_curve(vol, vol_denoised)"
   ]
  },
  {
   "cell_type": "code",
   "execution_count": null,
   "id": "d4a21255-b380-44c5-af04-43fdd379388b",
   "metadata": {},
   "outputs": [],
   "source": [
    "#plt.imshow(vol_denoised[Z2], cmap=\"gray\")"
   ]
  },
  {
   "cell_type": "code",
   "execution_count": null,
   "id": "9522fa1b-b088-41f8-8d8f-b6d0b933057e",
   "metadata": {},
   "outputs": [],
   "source": [
    "plt.title(vol_name)\n",
    "plt.xlabel(\"Spatial Frequency\")\n",
    "plt.ylabel(\"Fourier Shell Correlation\")\n",
    "plt.plot(freq, c_GD, label=f\"GD\")\n",
    "plt.plot(freq, c_SPGD, label=f\"SPGD\")\n",
    "plt.legend()\n",
    "plt.savefig(vol_name + \"_GD_vs_SPGD\" + \".svg\")\n",
    "plt.show()"
   ]
  },
  {
   "cell_type": "code",
   "execution_count": null,
   "id": "866ca4ba-81fe-4abd-bcef-45dfc27579cb",
   "metadata": {},
   "outputs": [],
   "source": [
    "FSC_threshold = 0.5"
   ]
  },
  {
   "cell_type": "code",
   "execution_count": null,
   "id": "7f4cb9a6-7153-4aa2-8a7e-258f102bd951",
   "metadata": {},
   "outputs": [],
   "source": [
    "np.sum(c_GD[c_GD > FSC_threshold])"
   ]
  },
  {
   "cell_type": "code",
   "execution_count": null,
   "id": "54a1b839-d464-4ae8-8791-f69d82688771",
   "metadata": {},
   "outputs": [],
   "source": [
    "np.sum(c_SPGD[c_SPGD > FSC_threshold])"
   ]
  }
 ],
 "metadata": {
  "kernelspec": {
   "display_name": "Python 3 (ipykernel)",
   "language": "python",
   "name": "python3"
  },
  "language_info": {
   "codemirror_mode": {
    "name": "ipython",
    "version": 3
   },
   "file_extension": ".py",
   "mimetype": "text/x-python",
   "name": "python",
   "nbconvert_exporter": "python",
   "pygments_lexer": "ipython3",
   "version": "3.12.2"
  }
 },
 "nbformat": 4,
 "nbformat_minor": 5
}
