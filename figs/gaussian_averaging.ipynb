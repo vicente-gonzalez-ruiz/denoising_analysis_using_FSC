{
 "cells": [
  {
   "cell_type": "markdown",
   "metadata": {
    "editable": true,
    "id": "QqfKxC0KuCzK",
    "slideshow": {
     "slide_type": ""
    },
    "tags": []
   },
   "source": [
    "# Denosing performance of image averaging"
   ]
  },
  {
   "cell_type": "code",
   "execution_count": null,
   "metadata": {
    "editable": true,
    "id": "IIUxh4uStrQJ",
    "slideshow": {
     "slide_type": ""
    },
    "tags": []
   },
   "outputs": [],
   "source": [
    "import numpy as np\n",
    "import matplotlib.pyplot as plt\n",
    "import cv2\n",
    "from collections import namedtuple\n",
    "from skimage import io as skimage_io  # pip install scikit-image\n",
    "import information_theory as IT # pip install \"information_theory @ git+https://github.com/vicente-gonzalez-ruiz/information_theory\""
   ]
  },
  {
   "cell_type": "code",
   "execution_count": null,
   "metadata": {},
   "outputs": [],
   "source": [
    "Args = namedtuple(\"args\", \"input\")\n",
    "args = Args(\"http://www.hpca.ual.es/~vruiz/images/barb.png\")"
   ]
  },
  {
   "cell_type": "code",
   "execution_count": null,
   "metadata": {},
   "outputs": [],
   "source": [
    "GT = skimage_io.imread(args.input)"
   ]
  },
  {
   "cell_type": "code",
   "execution_count": null,
   "metadata": {},
   "outputs": [],
   "source": [
    "mean = np.mean(GT)\n",
    "zero_mean_GT = GT.astype(np.float32) - mean\n",
    "print(np.mean(zero_mean_GT))"
   ]
  },
  {
   "cell_type": "code",
   "execution_count": null,
   "metadata": {},
   "outputs": [],
   "source": [
    "min_PSNR = 60"
   ]
  },
  {
   "cell_type": "code",
   "execution_count": null,
   "metadata": {},
   "outputs": [],
   "source": [
    "signal = np.arange(100) - 50\n",
    "signal"
   ]
  },
  {
   "cell_type": "markdown",
   "metadata": {},
   "source": [
    "## Simulating additive noise"
   ]
  },
  {
   "cell_type": "markdown",
   "metadata": {},
   "source": [
    "### Signal-independent additive uniform noise"
   ]
  },
  {
   "cell_type": "code",
   "execution_count": null,
   "metadata": {},
   "outputs": [],
   "source": [
    "noise = np.random.uniform(low=-10, high=10, size=signal.size).astype(np.int32)\n",
    "noisy = signal + noise"
   ]
  },
  {
   "cell_type": "code",
   "execution_count": null,
   "metadata": {},
   "outputs": [],
   "source": [
    "plt.title(\"signal-independet additive uniform noise\")\n",
    "plt.plot(signal, signal, label=\"signal\")\n",
    "plt.plot(signal, noisy, label=\"noisy\")\n",
    "plt.legend()\n",
    "plt.show()"
   ]
  },
  {
   "cell_type": "code",
   "execution_count": null,
   "metadata": {},
   "outputs": [],
   "source": [
    "curves = []\n",
    "#sigma_index = 1\n",
    "for c in range(10, 100, 10):\n",
    "    acc_denoised = np.zeros_like(GT, dtype=np.float64)\n",
    "    PSNR = 1\n",
    "    iters = 1\n",
    "    curve = []\n",
    "    while PSNR < min_PSNR:\n",
    "        noise = np.random.uniform(low=-c, high=c, size=GT.shape).reshape(GT.shape)\n",
    "        print(np.max(noise), np.min(noise))\n",
    "        noisy = np.clip(a=GT.astype(np.float32) + noise, a_min=0, a_max=255).astype(np.uint8)\n",
    "        acc_denoised += noisy\n",
    "        denoised = acc_denoised/iters\n",
    "        PSNR = IT.distortion.PSNR(denoised.astype(np.uint8), GT)\n",
    "        print(c, iters, PSNR)\n",
    "        curve.append(PSNR)\n",
    "        iters += 1\n",
    "        #plt.imshow(denoised, cmap=\"gray\")\n",
    "        #plt.show()\n",
    "        #input()\n",
    "\n",
    "    curves.append(curve)\n",
    "    print()"
   ]
  },
  {
   "cell_type": "code",
   "execution_count": null,
   "metadata": {},
   "outputs": [],
   "source": [
    "plt.title(\"signal-independent additive uniform noise\")\n",
    "for i in range(len(range(10,100,10))):\n",
    "    plt.plot(curves[i], label=i)\n",
    "    #print(i)\n",
    "plt.legend()\n",
    "plt.show()"
   ]
  },
  {
   "cell_type": "markdown",
   "metadata": {},
   "source": [
    "### An example of real additive noise: quantization noise"
   ]
  },
  {
   "cell_type": "code",
   "execution_count": null,
   "metadata": {},
   "outputs": [],
   "source": [
    "noisy = (signal/10).astype(np.int16) * 10"
   ]
  },
  {
   "cell_type": "code",
   "execution_count": null,
   "metadata": {},
   "outputs": [],
   "source": [
    "plt.title(\"quantization noise\")\n",
    "plt.plot(signal, signal, label=\"signal\")\n",
    "plt.plot(signal, noisy, label=\"noisy\")\n",
    "plt.legend()\n",
    "plt.show()"
   ]
  },
  {
   "cell_type": "markdown",
   "metadata": {},
   "source": [
    "Quantization noise can be modeled as signal-independent additive noise."
   ]
  },
  {
   "cell_type": "markdown",
   "metadata": {},
   "source": [
    "### Signal-dependent additive uniform noise"
   ]
  },
  {
   "cell_type": "code",
   "execution_count": null,
   "metadata": {},
   "outputs": [],
   "source": [
    "noise = np.random.uniform(low=-signal, high=signal).astype(np.int32)\n",
    "noisy = signal + noise"
   ]
  },
  {
   "cell_type": "code",
   "execution_count": null,
   "metadata": {},
   "outputs": [],
   "source": [
    "plt.title(\"signal-dependent additive uniform noise\")\n",
    "plt.plot(signal, signal, label=\"signal\")\n",
    "plt.plot(signal, noisy, label=\"noisy\")\n",
    "plt.legend()\n",
    "plt.show()"
   ]
  },
  {
   "cell_type": "code",
   "execution_count": null,
   "metadata": {},
   "outputs": [],
   "source": [
    "curves = []\n",
    "for c in range(1, 10, 1):\n",
    "    acc_denoised = np.zeros_like(GT, dtype=np.float64)\n",
    "    PSNR = 1\n",
    "    iters = 1\n",
    "    curve = []\n",
    "    while PSNR < min_PSNR:\n",
    "        noise = np.random.uniform(low=-2*zero_mean_GT/c, high=2*zero_mean_GT/c)\n",
    "        noisy = GT + noise\n",
    "        print(np.max(noise), np.min(noise))\n",
    "        noisy = np.clip(a=noisy, a_min=0, a_max=255).astype(np.uint8)\n",
    "        acc_denoised += noisy\n",
    "        denoised = acc_denoised/iters\n",
    "        PSNR = IT.distortion.PSNR(denoised.astype(np.uint8), GT)\n",
    "        print(c, iters, PSNR)\n",
    "        curve.append(PSNR)\n",
    "        iters += 1\n",
    "        #plt.imshow(denoised, cmap=\"gray\")\n",
    "        #plt.show()\n",
    "        #input()\n",
    "\n",
    "    curves.append(curve)\n",
    "    print()"
   ]
  },
  {
   "cell_type": "code",
   "execution_count": null,
   "metadata": {},
   "outputs": [],
   "source": [
    "plt.title(\"signal-dependent additive uniform noise\")\n",
    "for i in range(len(range(10,100,10))):\n",
    "    plt.plot(curves[i], label=i)\n",
    "    #print(i)\n",
    "plt.legend()\n",
    "plt.show()"
   ]
  },
  {
   "cell_type": "markdown",
   "metadata": {},
   "source": [
    "### Signal-independent additive Gaussian noise"
   ]
  },
  {
   "cell_type": "code",
   "execution_count": null,
   "metadata": {},
   "outputs": [],
   "source": [
    "noise = np.random.normal(loc=0, scale=10, size=signal.size).astype(np.int32)\n",
    "noisy = signal + noise"
   ]
  },
  {
   "cell_type": "code",
   "execution_count": null,
   "metadata": {},
   "outputs": [],
   "source": [
    "plt.title(\"signal-independent additive Gaussian noise\")\n",
    "plt.plot(signal, signal, label=\"signal\")\n",
    "plt.plot(signal, noisy, label=\"noisy\")\n",
    "plt.legend()\n",
    "plt.show()"
   ]
  },
  {
   "cell_type": "code",
   "execution_count": null,
   "metadata": {
    "scrolled": true
   },
   "outputs": [],
   "source": [
    "curves = []\n",
    "#sigma_index = 1\n",
    "for std_dev in range(10, 100, 10):\n",
    "    acc_denoised = np.zeros_like(GT, dtype=np.float64)\n",
    "    PSNR = 1\n",
    "    iters = 1\n",
    "    curve = []\n",
    "    while PSNR < min_PSNR:\n",
    "        noise = np.random.normal(loc=0, scale=std_dev, size=GT.shape).reshape(GT.shape)\n",
    "        print(np.max(noise), np.min(noise))\n",
    "        noisy = np.clip(a=GT.astype(np.float32) + noise, a_min=0, a_max=255).astype(np.uint8)\n",
    "        acc_denoised += noisy\n",
    "        denoised = acc_denoised/iters\n",
    "        PSNR = IT.distortion.PSNR(denoised.astype(np.uint8), GT)\n",
    "        print(std_dev, iters, PSNR)\n",
    "        curve.append(PSNR)\n",
    "        iters += 1\n",
    "        #plt.imshow(denoised, cmap=\"gray\")\n",
    "        #plt.show()\n",
    "        #input()\n",
    "\n",
    "    curves.append(curve)\n",
    "    #sigma_index += 1\n",
    "    #print()"
   ]
  },
  {
   "cell_type": "code",
   "execution_count": null,
   "metadata": {},
   "outputs": [],
   "source": [
    "plt.title(\"signal-independent additive Gaussian noise\")\n",
    "for i in range(len(range(10,100,10))):\n",
    "    plt.plot(curves[i], label=i)\n",
    "    #print(i)\n",
    "plt.legend()\n",
    "plt.show()"
   ]
  },
  {
   "cell_type": "markdown",
   "metadata": {},
   "source": [
    "### Signal-dependent additive uniform noise"
   ]
  },
  {
   "cell_type": "code",
   "execution_count": null,
   "metadata": {},
   "outputs": [],
   "source": [
    "noise = np.random.normal(loc=0, scale=signal+50)\n",
    "noisy = signal + noise"
   ]
  },
  {
   "cell_type": "code",
   "execution_count": null,
   "metadata": {},
   "outputs": [],
   "source": [
    "plt.title(\"signal-dependent additive Gaussian noise\")\n",
    "plt.plot(signal, signal, label=\"signal\")\n",
    "plt.plot(signal, noisy, label=\"noisy\")\n",
    "plt.legend()\n",
    "plt.show()"
   ]
  },
  {
   "cell_type": "code",
   "execution_count": null,
   "metadata": {},
   "outputs": [],
   "source": [
    "curves = []\n",
    "for std_dev in range(1, 10, 1):\n",
    "    acc_denoised = np.zeros_like(GT, dtype=np.float64)\n",
    "    PSNR = 1\n",
    "    iters = 1\n",
    "    curve = []\n",
    "    while PSNR < min_PSNR:\n",
    "        noise = np.random.normal(loc=0, scale=GT/std_dev/2)\n",
    "        noisy = GT + noise\n",
    "        print(np.max(noise), np.min(noise))\n",
    "        noisy = np.clip(a=noisy, a_min=0, a_max=255).astype(np.uint8)\n",
    "        acc_denoised += noisy\n",
    "        denoised = acc_denoised/iters\n",
    "        PSNR = IT.distortion.PSNR(denoised.astype(np.uint8), GT)\n",
    "        print(std_dev, iters, PSNR)\n",
    "        curve.append(PSNR)\n",
    "        iters += 1\n",
    "        #plt.imshow(denoised, cmap=\"gray\")\n",
    "        #plt.show()\n",
    "        #input()\n",
    "\n",
    "    curves.append(curve)\n",
    "    #sigma_index += 1\n",
    "    print()"
   ]
  },
  {
   "cell_type": "code",
   "execution_count": null,
   "metadata": {
    "scrolled": true
   },
   "outputs": [],
   "source": [
    "plt.title(\"signal-dependent additive Gaussian noise\")\n",
    "for i in range(len(curves)):\n",
    "    plt.plot(curves[i], label=i)\n",
    "    #print(i)\n",
    "plt.legend()\n",
    "plt.show()"
   ]
  },
  {
   "cell_type": "markdown",
   "metadata": {},
   "source": [
    "## Multiplicative uniform noise"
   ]
  },
  {
   "cell_type": "code",
   "execution_count": null,
   "metadata": {},
   "outputs": [],
   "source": [
    "noise = np.random.uniform(low=-5, high=5, size=signal.size).astype(np.int32)\n",
    "noisy = signal * (1 + noise/5)\n",
    "noisy2 = np.random.uniform(low=-signal/2, high=signal/2) + signal"
   ]
  },
  {
   "cell_type": "code",
   "execution_count": null,
   "metadata": {},
   "outputs": [],
   "source": [
    "plt.title(\"multiplicative uniform noise\")\n",
    "plt.plot(signal, signal, label=\"signal\")\n",
    "plt.plot(signal, noisy, label=\"noisy\")\n",
    "plt.plot(signal, noisy2, label=\"noisy2\")\n",
    "plt.legend()\n",
    "plt.show()"
   ]
  },
  {
   "cell_type": "code",
   "execution_count": null,
   "metadata": {},
   "outputs": [],
   "source": [
    "curves = []\n",
    "#sigma_index = 1\n",
    "for c in range(1, 10, 1):\n",
    "    acc_denoised = np.zeros_like(GT, dtype=np.float64)\n",
    "    PSNR = 1\n",
    "    iters = 1\n",
    "    curve = []\n",
    "    while PSNR < min_PSNR:\n",
    "        noise = np.random.uniform(-c/10, c/10, GT.shape).reshape(GT.shape)\n",
    "        #print(np.max(noise), np.min(noise))\n",
    "        noisy = np.clip(a=GT.astype(np.float32) * (1 + noise), a_min=0, a_max=255).astype(np.uint8)\n",
    "        acc_denoised += noisy\n",
    "        denoised = acc_denoised/iters\n",
    "        PSNR = IT.distortion.PSNR(denoised.astype(np.uint8), GT)\n",
    "        print(c, iters, PSNR)\n",
    "        curve.append(PSNR)\n",
    "        iters += 1\n",
    "        plt.imshow(denoised, cmap=\"gray\")\n",
    "        plt.show()\n",
    "        #input()\n",
    "\n",
    "    curves.append(curve)\n",
    "    #print()"
   ]
  },
  {
   "cell_type": "code",
   "execution_count": null,
   "metadata": {},
   "outputs": [],
   "source": [
    "for i in range(len(range(10,100,10))):\n",
    "    plt.plot(curves[i], label=i)\n",
    "    #print(i)\n",
    "plt.legend()\n",
    "plt.show()"
   ]
  },
  {
   "cell_type": "markdown",
   "metadata": {},
   "source": [
    "## Multiplicative Gaussian noise"
   ]
  },
  {
   "cell_type": "code",
   "execution_count": null,
   "metadata": {},
   "outputs": [],
   "source": [
    "x = np.arange(10)\n",
    "print(np.random.normal(x, scale=1.0))\n",
    "print(np.random.poisson(x))"
   ]
  },
  {
   "cell_type": "code",
   "execution_count": null,
   "metadata": {
    "scrolled": true
   },
   "outputs": [],
   "source": [
    "curves = []\n",
    "#sigma_index = 1\n",
    "max_intensity = np.max(GT)\n",
    "min_intensity = np.min(GT)\n",
    "dynamic_range = max_intensity - min_intensity\n",
    "normalized_GT = (GT - min_intensity) / dynamic_range\n",
    "#print(\"GT\", np.max(GT), np.min(GT))\n",
    "#print(normalized_GT.dtype)\n",
    "for std_dev in range(10, 100, 10):\n",
    "    acc_denoised = np.zeros_like(GT, dtype=np.float64)\n",
    "    PSNR = 1\n",
    "    iters = 1\n",
    "    curve = []\n",
    "    while PSNR < min_PSNR:\n",
    "        #noisy = np.clip(a = dynamic_range * np.random.poisson(normalized_GT*_lambda)/_lambda + min_intensity,  a_min=0, a_max=255).astype(np.uint8)\n",
    "        #noisy = dynamic_range * np.random.normal(normalized_GT*std_dev)/std_dev + min_intensity\n",
    "        noisy = np.random.normal(loc=GT, scale=std_dev)\n",
    "        print('a', np.max(noisy), np.min(noisy))\n",
    "        noisy = np.clip(a = noisy, a_min=0, a_max=255)\n",
    "        noisy = noisy.astype(np.uint8)\n",
    "        #print('b', np.max(noisy), np.min(noisy))\n",
    "        acc_denoised += noisy\n",
    "        denoised = acc_denoised/iters\n",
    "        PSNR = IT.distortion.PSNR(denoised.astype(np.uint8), GT)\n",
    "        print(_lambda, iters, PSNR, np.max(denoised), np.min(denoised))\n",
    "        curve.append(PSNR)\n",
    "        iters += 1\n",
    "        #plt.imshow(denoised, cmap=\"gray\")\n",
    "        #plt.show()\n",
    "        #input()\n",
    "\n",
    "    curves.append(curve)\n",
    "    #print()"
   ]
  },
  {
   "cell_type": "code",
   "execution_count": null,
   "metadata": {},
   "outputs": [],
   "source": [
    "curves = []\n",
    "mean = 0\n",
    "#sigma_index = 1\n",
    "for std_dev in range(10, 40, 4):\n",
    "    acc_denoised = np.zeros_like(GT, dtype=np.float64)\n",
    "    PSNR = 1\n",
    "    iters = 1\n",
    "    curve = []\n",
    "    while PSNR < min_PSNR:\n",
    "        noise = np.random.normal(mean, std_dev, GT.shape).reshape(GT.shape)\n",
    "        print(np.max(noise), np.min(noise))\n",
    "        #noisy = np.clip(a=GT.astype(np.float32) + (1 + noise), a_min=0, a_max=255).astype(np.uint8)\n",
    "        noisy = dynamic_range * np.random.normal(normalized_GT*_lambda)/_lambda + min_intensity\n",
    "        #noisy = GT.astype(np.float32) * (1+noise)\n",
    "        acc_denoised += noisy\n",
    "        denoised = acc_denoised/iters\n",
    "        PSNR = IT.distortion.PSNR(denoised.astype(np.uint8), GT)\n",
    "        print(std_dev, iters, PSNR)\n",
    "        curve.append(PSNR)\n",
    "        iters += 1\n",
    "        plt.imshow(np.clip(denoised, 0, 255).astype(np.uint8), cmap=\"gray\")\n",
    "        plt.show()\n",
    "        input()\n",
    "\n",
    "    curves.append(curve)\n",
    "    #sigma_index += 1\n",
    "    #print()"
   ]
  },
  {
   "cell_type": "code",
   "execution_count": null,
   "metadata": {},
   "outputs": [],
   "source": [
    "for i in range(len(range(10,100,10))):\n",
    "    plt.plot(curves[i], label=i)\n",
    "    #print(i)\n",
    "plt.legend()\n",
    "plt.show()"
   ]
  },
  {
   "cell_type": "markdown",
   "metadata": {},
   "source": [
    "## Multiplicative Poisson noise"
   ]
  },
  {
   "cell_type": "code",
   "execution_count": null,
   "metadata": {},
   "outputs": [],
   "source": [
    "curves = []\n",
    "#sigma_index = 1\n",
    "max_intensity = np.max(GT)\n",
    "min_intensity = np.min(GT)\n",
    "dynamic_range = max_intensity - min_intensity\n",
    "normalized_GT = (GT - min_intensity) / dynamic_range\n",
    "#print(\"GT\", np.max(GT), np.min(GT))\n",
    "#print(normalized_GT.dtype)\n",
    "for _lambda in range(20, 200, 20):\n",
    "    acc_denoised = np.zeros_like(GT, dtype=np.float64)\n",
    "    PSNR = 1\n",
    "    iters = 1\n",
    "    curve = []\n",
    "    while PSNR < min_PSNR:\n",
    "        #noisy = np.clip(a = dynamic_range * np.random.poisson(normalized_GT*_lambda)/_lambda + min_intensity,  a_min=0, a_max=255).astype(np.uint8)\n",
    "        noisy = dynamic_range * np.random.poisson(normalized_GT*_lambda)/_lambda + min_intensity\n",
    "        #noisy = dynamic_range * np.random.normal(normalized_GT*_lambda)/_lambda + min_intensity\n",
    "        #print('a', np.max(noisy), np.min(noisy))\n",
    "        noisy = np.clip(a = noisy, a_min=0, a_max=255)\n",
    "        noisy = noisy.astype(np.uint8)\n",
    "        #print('b', np.max(noisy), np.min(noisy))\n",
    "        acc_denoised += noisy\n",
    "        denoised = acc_denoised/iters\n",
    "        PSNR = IT.distortion.PSNR(denoised.astype(np.uint8), GT)\n",
    "        print(_lambda, iters, PSNR, np.max(denoised), np.min(denoised))\n",
    "        curve.append(PSNR)\n",
    "        iters += 1\n",
    "        plt.imshow(denoised, cmap=\"gray\")\n",
    "        plt.show()\n",
    "        input()\n",
    "\n",
    "    curves.append(curve)\n",
    "    #print()"
   ]
  },
  {
   "cell_type": "code",
   "execution_count": null,
   "metadata": {},
   "outputs": [],
   "source": [
    "for i in range(len(range(10,100,10))):\n",
    "    plt.plot(curves[i], label=i)\n",
    "    #print(i)\n",
    "plt.legend()\n",
    "plt.show()"
   ]
  },
  {
   "cell_type": "code",
   "execution_count": null,
   "metadata": {},
   "outputs": [],
   "source": [
    "mean = 0\n",
    "var = 1000\n",
    "std_dev = 30\n",
    "noise = np.random.normal(mean, std_dev, GT.shape).reshape(GT.shape)\n",
    "noisy = np.clip(a=GT.astype(np.float32) + noise, a_min=0, a_max=255).astype(np.uint8)"
   ]
  },
  {
   "cell_type": "code",
   "execution_count": null,
   "metadata": {},
   "outputs": [],
   "source": [
    "IT.distortion.PSNR(noisy, GT)"
   ]
  },
  {
   "cell_type": "code",
   "execution_count": null,
   "metadata": {},
   "outputs": [],
   "source": [
    "IT."
   ]
  },
  {
   "cell_type": "code",
   "execution_count": null,
   "metadata": {},
   "outputs": [],
   "source": [
    "np.max(noisy)"
   ]
  },
  {
   "cell_type": "code",
   "execution_count": null,
   "metadata": {},
   "outputs": [],
   "source": [
    "np.min(noisy)"
   ]
  },
  {
   "cell_type": "code",
   "execution_count": null,
   "metadata": {},
   "outputs": [],
   "source": [
    "plt.imshow(noisy, cmap=\"gray\")"
   ]
  },
  {
   "cell_type": "code",
   "execution_count": null,
   "metadata": {},
   "outputs": [],
   "source": [
    "denoised = cv2.fastNlMeansDenoising(noisy, None, h=33, templateWindowSize=7, searchWindowSize=9)"
   ]
  },
  {
   "cell_type": "code",
   "execution_count": null,
   "metadata": {
    "editable": true,
    "slideshow": {
     "slide_type": ""
    },
    "tags": []
   },
   "outputs": [],
   "source": [
    "fig, axs = plt.subplots(1, 2, figsize=(16, 32))\n",
    "axs[0].imshow(noisy, cmap=\"gray\")\n",
    "axs[0].set_title(f\"Noisy\")\n",
    "axs[1].imshow(denoised, cmap=\"gray\")\n",
    "axs[1].set_title(f\"Denoised (DQI={information_theory.information.compute_quality_index(noisy, denoised)})\")\n",
    "fig.tight_layout()\n",
    "plt.show()"
   ]
  },
  {
   "cell_type": "code",
   "execution_count": null,
   "metadata": {},
   "outputs": [],
   "source": [
    "np.mean(noisy)"
   ]
  },
  {
   "cell_type": "code",
   "execution_count": null,
   "metadata": {},
   "outputs": [],
   "source": [
    "np.mean(denoised)"
   ]
  },
  {
   "cell_type": "code",
   "execution_count": null,
   "metadata": {},
   "outputs": [],
   "source": [
    "denoised = GT"
   ]
  },
  {
   "cell_type": "code",
   "execution_count": null,
   "metadata": {},
   "outputs": [],
   "source": [
    "denoised.dtype"
   ]
  },
  {
   "cell_type": "code",
   "execution_count": null,
   "metadata": {},
   "outputs": [],
   "source": [
    "from skimage.metrics import structural_similarity as ssim\n",
    "from scipy import stats"
   ]
  },
  {
   "cell_type": "code",
   "execution_count": null,
   "metadata": {},
   "outputs": [],
   "source": [
    "diff = (noisy - denoised).astype(np.uint8)"
   ]
  },
  {
   "cell_type": "code",
   "execution_count": null,
   "metadata": {},
   "outputs": [],
   "source": [
    "plt.imshow(diff, cmap=\"gray\")"
   ]
  },
  {
   "cell_type": "code",
   "execution_count": null,
   "metadata": {},
   "outputs": [],
   "source": [
    "_, N = ssim(noisy, diff, full=True)"
   ]
  },
  {
   "cell_type": "code",
   "execution_count": null,
   "metadata": {},
   "outputs": [],
   "source": [
    "plt.imshow(N, cmap=\"gray\")"
   ]
  },
  {
   "cell_type": "code",
   "execution_count": null,
   "metadata": {},
   "outputs": [],
   "source": [
    "_, P = ssim(noisy, denoised.astype(np.uint8), full=True)"
   ]
  },
  {
   "cell_type": "code",
   "execution_count": null,
   "metadata": {},
   "outputs": [],
   "source": [
    "plt.imshow(P, cmap=\"gray\")"
   ]
  },
  {
   "cell_type": "code",
   "execution_count": null,
   "metadata": {},
   "outputs": [],
   "source": [
    "quality, _ = stats.pearsonr(N.flatten(), P.flatten())"
   ]
  },
  {
   "cell_type": "code",
   "execution_count": null,
   "metadata": {},
   "outputs": [],
   "source": [
    "quality"
   ]
  },
  {
   "cell_type": "code",
   "execution_count": null,
   "metadata": {},
   "outputs": [],
   "source": []
  }
 ],
 "metadata": {
  "colab": {
   "collapsed_sections": [],
   "name": "gaussian_denoising.ipynb",
   "provenance": []
  },
  "kernelspec": {
   "display_name": "Python 3 (ipykernel)",
   "language": "python",
   "name": "python3"
  },
  "language_info": {
   "codemirror_mode": {
    "name": "ipython",
    "version": 3
   },
   "file_extension": ".py",
   "mimetype": "text/x-python",
   "name": "python",
   "nbconvert_exporter": "python",
   "pygments_lexer": "ipython3",
   "version": "3.12.2"
  }
 },
 "nbformat": 4,
 "nbformat_minor": 4
}
